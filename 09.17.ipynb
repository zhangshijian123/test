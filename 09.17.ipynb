{
 "cells": [
  {
   "cell_type": "markdown",
   "metadata": {},
   "source": [
    "# 对象和类\n",
    "- 一个学生，一张桌子，一个圆都是对象\n",
    "- 对象是类的一个实例，你可以创建多个对象，创建类的一个实例过程被称为实例化，\n",
    "- 在Python中对象就是实例，而实例就是对象"
   ]
  },
  {
   "cell_type": "markdown",
   "metadata": {},
   "source": [
    "## 定义类\n",
    "class ClassName:\n",
    "\n",
    "    do something\n",
    "    \n",
    "- class 类的表示与def 一样\n",
    "- 类名最好使用驼峰式\n",
    "- 在Python2中类是需要继承基类object的，在Python中默认继承，可写可不写\n",
    "- 可以将普通代码理解为皮肤，而函数可以理解为内衣，那么类可以理解为外套"
   ]
  },
  {
   "cell_type": "code",
   "execution_count": null,
   "metadata": {},
   "outputs": [],
   "source": [
    "#python 2\n",
    "class ClassName(objet):\n",
    "    pass"
   ]
  },
  {
   "cell_type": "code",
   "execution_count": null,
   "metadata": {},
   "outputs": [],
   "source": [
    "#python 3\n",
    "class ClassName:\n",
    "    pass"
   ]
  },
  {
   "cell_type": "markdown",
   "metadata": {},
   "source": [
    "## 定义一个不含初始化__init__的简单类\n",
    "class ClassName:\n",
    "\n",
    "    joker = “Home”\n",
    "    \n",
    "    def func():\n",
    "        print('Worker')\n",
    "    \n",
    "- 尽量少使用"
   ]
  },
  {
   "cell_type": "code",
   "execution_count": null,
   "metadata": {},
   "outputs": [],
   "source": [
    "#实际上，我们之前所用的\".\"调用，就是调用类中的函数或者变量"
   ]
  },
  {
   "cell_type": "code",
   "execution_count": null,
   "metadata": {},
   "outputs": [],
   "source": [
    "import pygame\n",
    "class Music:\n",
    "    def play():\n",
    "        print(\"播放音乐2\")\n",
    "        track1=pygame.mixer.music.load(\"xx.mp3\")\n",
    "        pygame.mixer.music.play()\n",
    "\n",
    "\n",
    " "
   ]
  },
  {
   "cell_type": "markdown",
   "metadata": {},
   "source": [
    "## 定义一个标准类\n",
    "- __init__ 代表初始化，可以初始化任何动作\n",
    "- 此时类调用要使用()，其中（）可以理解为开始初始化\n",
    "- 初始化内的元素，类中其他的函数可以共享\n",
    "![](../Photo/85.png)"
   ]
  },
  {
   "cell_type": "code",
   "execution_count": 3,
   "metadata": {},
   "outputs": [],
   "source": [
    "class Class_name:\n",
    "    def __init__(self):  #类中的初始化的一个函数，初始化类自身\n",
    "        self.Joker = 'hahaha'\n",
    "    def fun1(self): # self代表 fun1 是类中的函数\n",
    "        print(self.Joker)\n",
    "    def fun2(self):\n",
    "        self.fun1()"
   ]
  },
  {
   "cell_type": "code",
   "execution_count": 4,
   "metadata": {},
   "outputs": [
    {
     "name": "stdout",
     "output_type": "stream",
     "text": [
      "hahaha\n",
      "hahaha\n"
     ]
    }
   ],
   "source": [
    "Class_name()  #类名 + （） 就代表了走初始化函数\n",
    "Class_name().fun1() #只有自己家的东西才可以互相调用，             \n",
    "Class_name().fun2() "
   ]
  },
  {
   "cell_type": "code",
   "execution_count": 29,
   "metadata": {},
   "outputs": [],
   "source": [
    "class Joker:\n",
    "    def __init__(self):\n",
    "        self.haha = 10\n",
    "        self.lala = 10\n",
    "        self.m = None\n",
    "        self.n = None\n",
    "    def pow2(self):\n",
    "            self.m = self.haha ** 2\n",
    "            print(self.m)\n",
    "    def pow3(self):\n",
    "            self.n = self.lala ** 3\n",
    "            print(self.n)\n",
    "    def minus(self):\n",
    "            print(self.n - self.m)"
   ]
  },
  {
   "cell_type": "code",
   "execution_count": 30,
   "metadata": {},
   "outputs": [
    {
     "name": "stdout",
     "output_type": "stream",
     "text": [
      "100\n",
      "1000\n",
      "900\n"
     ]
    }
   ],
   "source": [
    "#创建一个实例\n",
    "A = Joker() #A就相当于初始完毕后的Joker\n",
    "A.pow2()\n",
    "A.pow3()\n",
    "A.minus()"
   ]
  },
  {
   "cell_type": "code",
   "execution_count": 40,
   "metadata": {},
   "outputs": [],
   "source": [
    "class Joker:\n",
    "    def __init__(self,num1,num2):\n",
    "        self.haha = num1\n",
    "        self.lala = num2\n",
    "#         self.m = None\n",
    "#         self.n = None\n",
    "    def pow2(self,pow_num):\n",
    "        m = self.haha ** 2 + pow_num\n",
    "        return m\n",
    "    def pow3(self,pow_num):\n",
    "        n = self.lala ** 3 \n",
    "        return n\n",
    "    def miuns(self):\n",
    "        m1 = self.pow2()\n",
    "        n1 = self.pow3()\n",
    "        print(n1- m1)"
   ]
  },
  {
   "cell_type": "code",
   "execution_count": 42,
   "metadata": {},
   "outputs": [
    {
     "data": {
      "text/plain": [
       "100"
      ]
     },
     "execution_count": 42,
     "metadata": {},
     "output_type": "execute_result"
    }
   ],
   "source": [
    "Joker(num1=10,num2=10).pow2(pow_num = 0)\n"
   ]
  },
  {
   "cell_type": "markdown",
   "metadata": {},
   "source": [
    "- Circle 和 className_ 的第一个区别有 __init__ 这个函数\n",
    "- 。。。。   第二个区别，类中的每一个函数都有self的这个“参数”"
   ]
  },
  {
   "cell_type": "markdown",
   "metadata": {},
   "source": [
    "## 何为self？\n",
    "- self 是指向对象本身的参数\n",
    "- self 只是一个命名规则，其实可以改变的，但是我们约定俗成的是self，也便于理解\n",
    "- 使用了self就可以访问类中定义的成员\n",
    "<img src=\"../Photo/86.png\"></img>"
   ]
  },
  {
   "cell_type": "markdown",
   "metadata": {},
   "source": [
    "## 使用类 Cirlcle"
   ]
  },
  {
   "cell_type": "markdown",
   "metadata": {},
   "source": [
    "## 类的传参\n",
    "- class ClassName:\n",
    "    \n",
    "        def __init__(self, para1,para2...)：\n",
    "            \n",
    "            self.para1 = para1\n",
    "            \n",
    "            self.para2 = para2"
   ]
  },
  {
   "cell_type": "markdown",
   "metadata": {},
   "source": [
    "## EP:\n",
    "- A：定义一个类，类中含有两个功能：\n",
    "    - 1、计算随机数的最大值\n",
    "    - 2、计算随机数的最小值\n",
    "- B：定义一个类，（类中函数的嵌套使用）\n",
    "    - 1、第一个函数的功能为：输入一个数字\n",
    "    - 2、第二个函数的功能为：使用第一个函数中得到的数字进行平方处理\n",
    "    - 3、第三个函数的功能为：得到平方处理后的数字 - 原来输入的数字，并打印结果"
   ]
  },
  {
   "cell_type": "markdown",
   "metadata": {},
   "source": [
    "## 类的继承\n",
    "- 类的单继承\n",
    "- 类的多继承\n",
    "- 继承标识\n",
    ">  class SonClass(FatherClass):\n",
    "            \n",
    "            def __init__(self):\n",
    "            \n",
    "                FatherClass.__init__(self)"
   ]
  },
  {
   "cell_type": "code",
   "execution_count": 45,
   "metadata": {},
   "outputs": [],
   "source": [
    "class mayun:\n",
    "    def __init__(self):\n",
    "        self.caichan = 10000000\n",
    "    def showmayun(self):\n",
    "        print(self.caichan)"
   ]
  },
  {
   "cell_type": "code",
   "execution_count": 46,
   "metadata": {},
   "outputs": [],
   "source": [
    "class huwang(mayun):#告诉python我即将要继承父类\n",
    "    def __init__(self):\n",
    "        mayun.__init__(self) #真正的打上印记，我要继承父类\n",
    "        self.hu = 'wang'\n",
    "    def showhuwang(self):\n",
    "        print(self.hu)\n",
    "        print(self.caichan)\n",
    "        print(self.showmayun())"
   ]
  },
  {
   "cell_type": "code",
   "execution_count": 47,
   "metadata": {},
   "outputs": [
    {
     "name": "stdout",
     "output_type": "stream",
     "text": [
      "wang\n",
      "10000000\n",
      "10000000\n",
      "None\n"
     ]
    }
   ],
   "source": [
    "huwang().showhuwang()"
   ]
  },
  {
   "cell_type": "code",
   "execution_count": 48,
   "metadata": {},
   "outputs": [],
   "source": [
    "class get_pow2_pow3:\n",
    "    def __init__(self,num1,num2):\n",
    "        self.num1 = num1\n",
    "        self.num2 = num2\n",
    "        self.res1 = None\n",
    "        self.res2 = None\n",
    "    def pow2_pow3(self):\n",
    "        self.res1 = self.num1 ** 2\n",
    "        self.res2 = self.num2 ** 3"
   ]
  },
  {
   "cell_type": "code",
   "execution_count": 49,
   "metadata": {},
   "outputs": [],
   "source": [
    "class chazhi(get_pow2_pow3):\n",
    "    def __init__(self,num1,num2):\n",
    "        get_pow2_pow3.__init__(self,num1,num2)\n",
    "    def cz(self):\n",
    "        print(self.res2 - self.res1)"
   ]
  },
  {
   "cell_type": "code",
   "execution_count": 53,
   "metadata": {},
   "outputs": [
    {
     "name": "stdout",
     "output_type": "stream",
     "text": [
      "900\n"
     ]
    }
   ],
   "source": [
    "B = chazhi(10,10)\n",
    "B.pow2_pow3()\n",
    "B.cz()"
   ]
  },
  {
   "cell_type": "code",
   "execution_count": 54,
   "metadata": {},
   "outputs": [],
   "source": [
    "class get_pow2_pow3:\n",
    "    def __init__(self,num1,num2):\n",
    "        self.num1 = num1\n",
    "        self.num2 = num2\n",
    "    def pow2_pow3(self):\n",
    "        res1 = self.num1 ** 2\n",
    "        res2 = self.num2 ** 3\n",
    "        return res1,res2"
   ]
  },
  {
   "cell_type": "code",
   "execution_count": 55,
   "metadata": {},
   "outputs": [],
   "source": [
    "class chazhi(get_pow2_pow3):\n",
    "    def __init__(self,num1,num2):\n",
    "        get_pow2_pow3.__init__(self,num1,num2)\n",
    "    def cz(self):\n",
    "        RES1,RES2 = self.pow2_pow3()\n",
    "        print(RES1 -RES2)"
   ]
  },
  {
   "cell_type": "code",
   "execution_count": 92,
   "metadata": {},
   "outputs": [],
   "source": [
    "class get_pow2:\n",
    "    def __init__(self,num1):\n",
    "        self.num1 = num1\n",
    "        self.res1 = None\n",
    "    def pow2(self):\n",
    "        self.res1 = self.num1 ** 2\n",
    "        "
   ]
  },
  {
   "cell_type": "code",
   "execution_count": 89,
   "metadata": {},
   "outputs": [],
   "source": [
    "class get_pow3:\n",
    "    def __init__(self,num2):\n",
    "        self.num2 = num2\n",
    "        self.res2 = None\n",
    "    def pow3(self):\n",
    "        self.res2 = self.num2 ** 3\n",
    "    "
   ]
  },
  {
   "cell_type": "code",
   "execution_count": 94,
   "metadata": {},
   "outputs": [],
   "source": [
    "class chazhi(get_pow2,get_pow3):\n",
    "    def __init__(self,num1,num2):\n",
    "        get_pow2.__init__(self,num1)\n",
    "        get_pow3.__init__(self,num2)\n",
    "    def cz(self):\n",
    "        print(self.res2 - self.res1)"
   ]
  },
  {
   "cell_type": "code",
   "execution_count": 95,
   "metadata": {},
   "outputs": [
    {
     "name": "stdout",
     "output_type": "stream",
     "text": [
      "900\n"
     ]
    }
   ],
   "source": [
    "B = chazhi(10,10)\n",
    "B.pow2()\n",
    "B.pow3()\n",
    "B.cz()"
   ]
  },
  {
   "cell_type": "markdown",
   "metadata": {},
   "source": [
    "## 私有数据域(私有变量，或者私有函数)\n",
    "- 在Python中 变量名或者函数名使用双下划线代表私有  \\__Joker,   def \\__Joker():\n",
    "- 私有数据域不可继承\n",
    "- 私有数据域强制继承   \\__dir__()"
   ]
  },
  {
   "cell_type": "markdown",
   "metadata": {},
   "source": [
    "![](../Photo/87.png)"
   ]
  },
  {
   "cell_type": "markdown",
   "metadata": {},
   "source": [
    "## EP:\n",
    "![](../Photo/88.png)\n",
    "![](../Photo/89.png)\n",
    "![](../Photo/90.png)\n"
   ]
  },
  {
   "cell_type": "markdown",
   "metadata": {},
   "source": [
    "## 类的其他\n",
    "- 类的封装\n",
    "    - 实际上就是将一类功能放在一起，方便未来进行管理\n",
    "- 类的继承（上面已经讲过）\n",
    "- 类的多态\n",
    "    - 包括装饰器：将放在以后处理高级类中教\n",
    "    - 装饰器的好处：当许多类中的函数需要使用同一个功能的时候，那么使用装饰器就会方便许多\n",
    "    - 装饰器是有固定的写法\n",
    "        - 其包括普通装饰器与带参装饰器"
   ]
  },
  {
   "cell_type": "markdown",
   "metadata": {},
   "source": [
    "# Homewor\n",
    "## UML类图可以不用画\n",
    "## UML 实际上就是一个思维图\n",
    "- 1\n",
    "![](../Photo/91.png)"
   ]
  },
  {
   "cell_type": "code",
   "execution_count": 28,
   "metadata": {},
   "outputs": [],
   "source": [
    "class Rectangle:\n",
    "    def __init__(self, width = 1, height = 2):\n",
    "        self.width = width\n",
    "        self.height = height\n",
    "    def get_width_heigth(self):\n",
    "        return self.width,self.height\n",
    "    def get_Area(self):\n",
    "        return self.width * self.height\n",
    "    def get_Zhouchang(self):\n",
    "        return 2*(self.width + self.height)"
   ]
  },
  {
   "cell_type": "code",
   "execution_count": 29,
   "metadata": {},
   "outputs": [
    {
     "name": "stdout",
     "output_type": "stream",
     "text": [
      "宽为 4 高为 40 的长方形的面积为: 160 周长为: 88\n",
      "宽为 3.5 高为 35.7 的长方形的面积为: 124.95 周长为: 78.4\n"
     ]
    }
   ],
   "source": [
    "Rect1 = Rectangle(4, 40)\n",
    "width1, height1 = Rect1.get_width_heigth()\n",
    "area1 = Rect1.get_Area()\n",
    "zc1 = Rect1.get_Zhouchang()\n",
    "\n",
    "Rect2 = Rectangle(3.5, 35.7)\n",
    "width2, height2 = Rect2.get_width_heigth()\n",
    "area2 = Rect2.get_Area()\n",
    "zc2 = Rect2.get_Zhouchang()\n",
    "\n",
    "print('宽为',width1,'高为',height1,'的长方形的面积为:',area1,'周长为:', zc1)\n",
    "print('宽为',width2,'高为',height2,'的长方形的面积为:',round(area2,2),'周长为:', zc2)"
   ]
  },
  {
   "cell_type": "markdown",
   "metadata": {},
   "source": [
    "- 2\n",
    "![](../Photo/92.png)"
   ]
  },
  {
   "cell_type": "code",
   "execution_count": null,
   "metadata": {},
   "outputs": [],
   "source": []
  },
  {
   "cell_type": "markdown",
   "metadata": {},
   "source": [
    "- 3\n",
    "![](../Photo/93.png)"
   ]
  },
  {
   "cell_type": "code",
   "execution_count": 30,
   "metadata": {},
   "outputs": [],
   "source": [
    "class Fan:\n",
    "    def __init__(self, speed = 1, on = False, radius = 5, color = 'blue'):\n",
    "        if speed == 1:\n",
    "            self.__speed = 'SLOW'\n",
    "        elif speed == 2:\n",
    "            self.__speed = 'MEDIUM'\n",
    "        else:\n",
    "            self.__speed = 'FAST'      \n",
    "        self.__on = on\n",
    "        self.__radius = radius \n",
    "        self.__color = color\n",
    "    \n",
    "    def get_Speed(self):\n",
    "        return self.__speed\n",
    "    def get_On(self):\n",
    "        return self.__on\n",
    "    def get_Radius(self):\n",
    "        return self.__radius\n",
    "    def get_Color(self):\n",
    "        return self.__color\n",
    "    def change_Speed(self, speed):\n",
    "        if speed == 1:\n",
    "            self.__speed = 'SLOW'\n",
    "        elif speed == 2:\n",
    "            self.__speed = 'MEDIUM'\n",
    "        else:\n",
    "            self.__speed = 'FAST'\n",
    "    def change_On(self, on):\n",
    "            self.__on = on\n",
    "    def change_Radius(self, radius):\n",
    "            self.__radius = radius\n",
    "    def change_Color(self, color):\n",
    "            self.__color = color"
   ]
  },
  {
   "cell_type": "code",
   "execution_count": 31,
   "metadata": {},
   "outputs": [
    {
     "name": "stdout",
     "output_type": "stream",
     "text": [
      "速度为：  FAST\n",
      "半径为：  10\n",
      "颜色为：  yellow\n",
      "风扇状态为：  True\n"
     ]
    }
   ],
   "source": [
    "fan1 = Fan(3,True, 10, 'yellow')\n",
    "print('速度为： ', fan1.get_Speed())\n",
    "print('半径为： ', fan1.get_Radius())\n",
    "print('颜色为： ', fan1.get_Color())\n",
    "print('风扇状态为： ', fan1.get_On())"
   ]
  },
  {
   "cell_type": "code",
   "execution_count": 32,
   "metadata": {},
   "outputs": [
    {
     "name": "stdout",
     "output_type": "stream",
     "text": [
      "速度为：  MEDIUM\n",
      "半径为：  5\n",
      "颜色为：  red\n",
      "风扇状态为：  False\n"
     ]
    }
   ],
   "source": [
    "fan2 = Fan()\n",
    "fan2.change_Speed(2)\n",
    "fan2.change_On(False)\n",
    "fan2.change_Radius(5)\n",
    "fan2.change_Color('red')\n",
    "\n",
    "print('速度为： ', fan2.get_Speed())\n",
    "print('半径为： ', fan2.get_Radius())\n",
    "print('颜色为： ', fan2.get_Color())\n",
    "print('风扇状态为： ', fan2.get_On())"
   ]
  },
  {
   "cell_type": "markdown",
   "metadata": {},
   "source": [
    "- 4\n",
    "![](../Photo/94.png)\n",
    "![](../Photo/95.png)"
   ]
  },
  {
   "cell_type": "code",
   "execution_count": 37,
   "metadata": {},
   "outputs": [],
   "source": [
    "import math\n",
    "class RegularPolygon:\n",
    "    def __init__(self, n=3, bianchang=1, x=0, y=0):\n",
    "        self.__n = n\n",
    "        self.__bianchang = bianchang\n",
    "        self.__x = x\n",
    "        self.__y = y\n",
    "    def get_N(self):\n",
    "        return self.__n\n",
    "    def get_Bianchang(self):\n",
    "        return self.__bianchang\n",
    "    def get_X(self):\n",
    "        return self.__x\n",
    "    def get_Y(self):\n",
    "        return self.__y\n",
    "    def set_N(self, n):\n",
    "        self.__n = n\n",
    "    def set_Bianchang(self, bianchang):\n",
    "        self.__bianchang = bianchang\n",
    "    def set_X(self, x):\n",
    "        self.__x = x\n",
    "    def set_Y(self, y):\n",
    "        self.__y = y\n",
    "    def getPerimeter(self):\n",
    "        return self.__n * self.__bianchang \n",
    "    def getArea(self):\n",
    "        area = self.__n * (self.__bianchang ** 2) / (4 * math.tan(math.pi/self.__n))\n",
    "        return area"
   ]
  },
  {
   "cell_type": "code",
   "execution_count": 43,
   "metadata": {},
   "outputs": [
    {
     "name": "stdout",
     "output_type": "stream",
     "text": [
      "边长为 1 的正 3 边形的周长为: 3 面积为: 0.43\n",
      "边长为 4 的正 6 边形的周长为: 24 面积为: 41.57\n",
      "边长为 4 的正 10 边形的周长为: 40 面积为: 123.11\n"
     ]
    }
   ],
   "source": [
    "reg1 = RegularPolygon()\n",
    "reg2 = RegularPolygon(6, 4)\n",
    "reg3 = RegularPolygon(10, 4, 5.6, 7.8)\n",
    "print('边长为',reg1.get_Bianchang(),'的正',reg1.get_N(),'边形的周长为:',reg1.getPerimeter(),'面积为:',round(reg1.getArea(),2))\n",
    "print('边长为',reg2.get_Bianchang(),'的正',reg2.get_N(),'边形的周长为:',reg2.getPerimeter(),'面积为:',round(reg2.getArea(),2))\n",
    "print('边长为',reg3.get_Bianchang(),'的正',reg3.get_N(),'边形的周长为:',reg3.getPerimeter(),'面积为:',round(reg3.getArea(),2))"
   ]
  },
  {
   "cell_type": "markdown",
   "metadata": {},
   "source": [
    "- 5\n",
    "![](../Photo/96.png)"
   ]
  },
  {
   "cell_type": "code",
   "execution_count": 44,
   "metadata": {},
   "outputs": [],
   "source": [
    "class LinearEquation:\n",
    "    def __init__(self, a, b, c, d, e, f):\n",
    "        self.__a = a\n",
    "        self.__b = b\n",
    "        self.__c = c\n",
    "        self.__d = d\n",
    "        self.__e = e\n",
    "        self.__f = f\n",
    "    def get_A(self):\n",
    "        return self.__a\n",
    "    def get_B(self):\n",
    "        return self.__b\n",
    "    def get_C(self):\n",
    "        return self.__c\n",
    "    def get_D(self):\n",
    "        return self.__d\n",
    "    def get_E(self):\n",
    "        return self.__e\n",
    "    def get_F(self):\n",
    "        return self.__f\n",
    "    def isSolvable(self):\n",
    "        if (self.__a * self.__d) - (self.__b * self.__c) != 0:\n",
    "            return True\n",
    "        else:\n",
    "            return False\n",
    "    def get_X(self):\n",
    "        return (self.__e * self.__d - self.__b * self.__f) / (self.__a * self.__d - self.__b * self.__c)\n",
    "    def get_Y(self):\n",
    "        return (self.__a * self.__f - self.__e * self.__c) / (self.__a * self.__d - self.__b * self.__c)"
   ]
  },
  {
   "cell_type": "code",
   "execution_count": 50,
   "metadata": {},
   "outputs": [
    {
     "name": "stdout",
     "output_type": "stream",
     "text": [
      "输入 a:1\n",
      "输入 b:2\n",
      "输入 c:3\n",
      "输入 d:4\n",
      "输入 e:5\n",
      "输入 f:4\n",
      "X= -6.0 \n",
      " Y= 5.5\n"
     ]
    }
   ],
   "source": [
    "def num():\n",
    "    a = eval(input('输入 a:'))\n",
    "    b = eval(input('输入 b:'))\n",
    "    c = eval(input('输入 c:'))\n",
    "    d = eval(input('输入 d:'))\n",
    "    e = eval(input('输入 e:'))\n",
    "    f = eval(input('输入 f:'))\n",
    "    equation = LinearEquation(a, b, c, d, e, f)\n",
    "    if equation.isSolvable() == True:\n",
    "        print('X=',equation.get_X(),'\\n','Y=',equation.get_Y())\n",
    "    else:\n",
    "        print('这个方程无解')\n",
    "num()"
   ]
  },
  {
   "cell_type": "markdown",
   "metadata": {},
   "source": [
    "- 6\n",
    "![](../Photo/97.png)"
   ]
  },
  {
   "cell_type": "code",
   "execution_count": null,
   "metadata": {},
   "outputs": [],
   "source": [
    "class LinearEquation:\n",
    "    def __init__(self,x1,y1,x2,y2)\n",
    "    self.x1 = x1\n",
    "    self.x2 = x2\n",
    "    self.y1 = y1\n",
    "    self.y2 = y2"
   ]
  },
  {
   "cell_type": "markdown",
   "metadata": {},
   "source": [
    "- 7\n",
    "![](../Photo/98.png)"
   ]
  }
 ],
 "metadata": {
  "kernelspec": {
   "display_name": "Python 3",
   "language": "python",
   "name": "python3"
  },
  "language_info": {
   "codemirror_mode": {
    "name": "ipython",
    "version": 3
   },
   "file_extension": ".py",
   "mimetype": "text/x-python",
   "name": "python",
   "nbconvert_exporter": "python",
   "pygments_lexer": "ipython3",
   "version": "3.6.4"
  }
 },
 "nbformat": 4,
 "nbformat_minor": 2
}
