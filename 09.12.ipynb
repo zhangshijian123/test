{
 "cells": [
  {
   "cell_type": "markdown",
   "metadata": {},
   "source": [
    "# 选择\n",
    "## 布尔类型、数值和表达式\n",
    "![](../Photo/33.png)\n",
    "- 注意：比较运算符的相等是两个等到，一个等到代表赋值\n",
    "- 在Python中可以用整型0来代表False，其他数字来代表True\n",
    "- 后面还会讲到 is 在判断语句中的用发"
   ]
  },
  {
   "cell_type": "code",
   "execution_count": 1,
   "metadata": {},
   "outputs": [
    {
     "data": {
      "text/plain": [
       "True"
      ]
     },
     "execution_count": 1,
     "metadata": {},
     "output_type": "execute_result"
    }
   ],
   "source": [
    "0 == False"
   ]
  },
  {
   "cell_type": "code",
   "execution_count": 2,
   "metadata": {},
   "outputs": [
    {
     "data": {
      "text/plain": [
       "True"
      ]
     },
     "execution_count": 2,
     "metadata": {},
     "output_type": "execute_result"
    }
   ],
   "source": [
    "1 == True"
   ]
  },
  {
   "cell_type": "markdown",
   "metadata": {},
   "source": [
    "## 字符串的比较使用ASCII值"
   ]
  },
  {
   "cell_type": "code",
   "execution_count": 3,
   "metadata": {},
   "outputs": [
    {
     "data": {
      "text/plain": [
       "False"
      ]
     },
     "execution_count": 3,
     "metadata": {},
     "output_type": "execute_result"
    }
   ],
   "source": [
    "'a' > 'b'"
   ]
  },
  {
   "cell_type": "code",
   "execution_count": null,
   "metadata": {},
   "outputs": [],
   "source": [
    "# 字符串和布尔值之间不能用大于号进行比较\n",
    "# 字符串和整形之间不能用大于号进行比较"
   ]
  },
  {
   "cell_type": "code",
   "execution_count": 5,
   "metadata": {},
   "outputs": [
    {
     "name": "stdout",
     "output_type": "stream",
     "text": [
      "请输入一个数：85\n",
      "B\n"
     ]
    }
   ],
   "source": [
    "num = eval(input('请输入一个数：'))\n",
    "if num > 90:\n",
    "    print('A')\n",
    "elif 80<=num<=90:\n",
    "    print('B')"
   ]
  },
  {
   "cell_type": "code",
   "execution_count": 6,
   "metadata": {},
   "outputs": [
    {
     "data": {
      "text/plain": [
       "0"
      ]
     },
     "execution_count": 6,
     "metadata": {},
     "output_type": "execute_result"
    }
   ],
   "source": [
    "1 * False # False 代表0"
   ]
  },
  {
   "cell_type": "markdown",
   "metadata": {},
   "source": [
    "## Markdown \n",
    "- https://github.com/younghz/Markdown"
   ]
  },
  {
   "cell_type": "markdown",
   "metadata": {},
   "source": [
    "## EP:\n",
    "- <img src=\"../Photo/34.png\"></img>\n",
    "- 输入一个数字，判断其实奇数还是偶数"
   ]
  },
  {
   "cell_type": "markdown",
   "metadata": {},
   "source": [
    "## 产生随机数字\n",
    "- 函数random.randint(a,b) 可以用来产生一个a和b之间且包括a和b的随机整数"
   ]
  },
  {
   "cell_type": "code",
   "execution_count": 2,
   "metadata": {},
   "outputs": [
    {
     "name": "stdout",
     "output_type": "stream",
     "text": [
      "4\n",
      ">>5\n",
      "太大了\n",
      ">>3\n",
      "太小了\n",
      ">>4\n",
      "猜对了\n"
     ]
    }
   ],
   "source": [
    "#产生一个随机数，你去输入，如果输入的数大于随机数，那么就告诉你太大了，反之，太小了。然后你一直输入，直到它满意为止。\n",
    "import random\n",
    "suijishu = random.randint(1,5)\n",
    "print (suijishu)\n",
    "\n",
    "while True:\n",
    "    input_num = eval(input('>>'))\n",
    "    if input_num == suijishu:\n",
    "        print('猜对了')\n",
    "        break\n",
    "    elif input_num > suijishu:\n",
    "        print('太大了')\n",
    "    elif input_num < suijishu:\n",
    "        print('太小了')\n"
   ]
  },
  {
   "cell_type": "markdown",
   "metadata": {},
   "source": [
    "##  其他random方法\n",
    "- random.random 返回0.0到1.0之间前闭后开区间的随机浮点\n",
    "- random.randrange(a,b) 前闭后开"
   ]
  },
  {
   "cell_type": "code",
   "execution_count": 3,
   "metadata": {},
   "outputs": [
    {
     "data": {
      "text/plain": [
       "2"
      ]
     },
     "execution_count": 3,
     "metadata": {},
     "output_type": "execute_result"
    }
   ],
   "source": [
    "random.randrange(0,10,2)"
   ]
  },
  {
   "cell_type": "markdown",
   "metadata": {},
   "source": [
    "## EP：\n",
    "- 产生两个随机整数number1和number2，然后显示给用户，使用户输入数字的和，并判定其是否正确\n",
    "- 进阶:写一个随机序号点名程序"
   ]
  },
  {
   "cell_type": "code",
   "execution_count": null,
   "metadata": {},
   "outputs": [
    {
     "name": "stdout",
     "output_type": "stream",
     "text": [
      "产生的随机数:1, 5\n",
      "用户输入随机数字的和:7\n",
      "你猜错了\n"
     ]
    }
   ],
   "source": [
    "import random\n",
    "suijishu1 = random.randint(1,5)\n",
    "suijishu2 = random.randint(5,10)\n",
    "print('产生的随机数:' + str(suijishu1) + ', ' + str(suijishu2) )\n",
    "sum = suijishu1 + suijishu2\n",
    "\n",
    "while True:\n",
    "    s = eval(input('用户输入随机数字的和:' ))\n",
    "    if sum == s:\n",
    "        print('你真厉害，猜对了')\n",
    "        break\n",
    "    elif sum != s:\n",
    "        print('你猜错了')"
   ]
  },
  {
   "cell_type": "markdown",
   "metadata": {},
   "source": [
    "## if语句\n",
    "- 如果条件正确就执行一个单向if语句，亦即当条件为真的时候才执行if内部的语句\n",
    "- Python有很多选择语句:\n",
    "> - 单向if \n",
    "  - 双向if-else\n",
    "  - 嵌套if\n",
    "  - 多向if-elif-else\n",
    "  \n",
    "- 注意：当语句含有子语句的时候，那么一定至少要有一个缩进，也就是说如果有儿子存在，那么一定要缩进\n",
    "- 切记不可tab键和space混用，单用tab 或者 space\n",
    "- 当你输出的结果是无论if是否为真时都需要显示时，语句应该与if对齐"
   ]
  },
  {
   "cell_type": "code",
   "execution_count": 26,
   "metadata": {},
   "outputs": [
    {
     "name": "stdout",
     "output_type": "stream",
     "text": [
      "输入年龄：25\n",
      "见\n",
      "输入长相：帅或中等\n",
      "见\n",
      "输入收入：高\n",
      "见\n",
      "公务员是\n",
      "见\n"
     ]
    }
   ],
   "source": [
    "age = eval(input('输入年龄：'))\n",
    "if age <= 30:\n",
    "    print('见')\n",
    "    zhangxiang = input('输入长相：')\n",
    "    if zhangxiang == '帅或中等':\n",
    "        print('见')\n",
    "        shouru = input('输入收入：')\n",
    "        if shouru == '高':\n",
    "            print('见')\n",
    "            gongwuyuan = input('公务员')\n",
    "            if gongwuyuan == '是':\n",
    "                print('见')\n",
    "            else:\n",
    "                print('不见')\n",
    "        else:\n",
    "            print('不见')\n",
    "    else :\n",
    "        print('不见')\n",
    "else :\n",
    "    print('不见')\n",
    " \n",
    "\n",
    "    "
   ]
  },
  {
   "cell_type": "markdown",
   "metadata": {},
   "source": [
    "## EP：\n",
    "- 用户输入一个数字，判断其实奇数还是偶数\n",
    "- 进阶：可以查看下4.5实例研究猜生日"
   ]
  },
  {
   "cell_type": "markdown",
   "metadata": {},
   "source": [
    "## 双向if-else 语句\n",
    "- 如果条件为真，那么走if内部语句，否则走else内部语句"
   ]
  },
  {
   "cell_type": "markdown",
   "metadata": {},
   "source": [
    "## EP：\n",
    "- 产生两个随机整数number1和number2，然后显示给用户，使用户输入数字，并判定其是否正确,如果正确打印“you‘re correct”，否则打印正确错误"
   ]
  },
  {
   "cell_type": "markdown",
   "metadata": {},
   "source": [
    "## 嵌套if 和多向if-elif-else\n",
    "![](../Photo/35.png)"
   ]
  },
  {
   "cell_type": "markdown",
   "metadata": {},
   "source": [
    "## EP：\n",
    "- 提示用户输入一个年份，然后显示表示这一年的动物\n",
    "![](../Photo/36.png)\n",
    "- 计算身体质量指数的程序\n",
    "- BMI = 以千克为单位的体重除以以米为单位的身高\n",
    "![](../Photo/37.png)"
   ]
  },
  {
   "cell_type": "code",
   "execution_count": 30,
   "metadata": {},
   "outputs": [
    {
     "name": "stdout",
     "output_type": "stream",
     "text": [
      "请输入一个年份：1996\n",
      "鼠\n"
     ]
    }
   ],
   "source": [
    "year = eval(input('请输入一个年份：'))\n",
    "if year % 12 == 0:\n",
    "    print('猴')\n",
    "elif year % 12 == 1:\n",
    "    print('鸡')\n",
    "elif year % 12 == 2:\n",
    "    print('狗')\n",
    "elif year % 12 == 3:\n",
    "    print('猪')\n",
    "elif year % 12 == 4:\n",
    "    print('鼠')\n",
    "elif year % 12 == 5:\n",
    "    print('牛')\n",
    "elif year % 12 == 6:\n",
    "    print('虎')\n",
    "elif year % 12 == 7:\n",
    "    print('兔')\n",
    "elif year % 12 == 8:\n",
    "    print('龙')\n",
    "elif year % 12 == 9:\n",
    "    print('蛇')\n",
    "elif year % 12 == 10:\n",
    "    print('马')\n",
    "else:\n",
    "    print('羊')\n"
   ]
  },
  {
   "cell_type": "code",
   "execution_count": 44,
   "metadata": {},
   "outputs": [
    {
     "name": "stdout",
     "output_type": "stream",
     "text": [
      "请输入体重：60\n",
      "请输入身高：164\n",
      "超轻\n"
     ]
    }
   ],
   "source": [
    "tizhong = eval(input('请输入体重：'))\n",
    "shengao = eval(input('请输入身高：'))\n",
    "BMI = tizhong / (shengao * shengao)\n",
    "if BMI < 18.5:\n",
    "    print('超轻')\n",
    "elif 18.5 <= BMI <25.0:\n",
    "    print('标准')\n",
    "elif 25.0 <=BMI < 30.0:\n",
    "    print('超重')\n",
    "elif 30.0 <= BMI:\n",
    "    print('痴肥')\n"
   ]
  },
  {
   "cell_type": "markdown",
   "metadata": {},
   "source": [
    "## 逻辑运算符\n",
    "![](../Photo/38.png)"
   ]
  },
  {
   "cell_type": "code",
   "execution_count": 9,
   "metadata": {},
   "outputs": [
    {
     "name": "stdout",
     "output_type": "stream",
     "text": [
      ">>长得高\n"
     ]
    }
   ],
   "source": [
    "res=input('>>')\n",
    "if '长得高'==res and '长得帅'==res:\n",
    "    pass"
   ]
  },
  {
   "cell_type": "code",
   "execution_count": 8,
   "metadata": {},
   "outputs": [
    {
     "data": {
      "text/plain": [
       "False"
      ]
     },
     "execution_count": 8,
     "metadata": {},
     "output_type": "execute_result"
    }
   ],
   "source": [
    "a = [1,2,3,4]\n",
    "1 not in a"
   ]
  },
  {
   "cell_type": "code",
   "execution_count": 10,
   "metadata": {},
   "outputs": [
    {
     "data": {
      "text/plain": [
       "True"
      ]
     },
     "execution_count": 10,
     "metadata": {},
     "output_type": "execute_result"
    }
   ],
   "source": [
    "age = 19\n",
    "not (age > 20) # not作用是取反"
   ]
  },
  {
   "cell_type": "markdown",
   "metadata": {},
   "source": [
    "![](../Photo/39.png)\n",
    "![](../Photo/40.png)"
   ]
  },
  {
   "cell_type": "markdown",
   "metadata": {},
   "source": [
    "## EP：\n",
    "- 判定闰年：一个年份如果能被4整除但不能被100整除，或者能被400整除，那么这个年份就是闰年\n",
    "- 提示用户输入一个年份，并返回是否是闰年\n",
    "- 提示用户输入一个数字，判断其是否为水仙花数"
   ]
  },
  {
   "cell_type": "code",
   "execution_count": 13,
   "metadata": {
    "scrolled": true
   },
   "outputs": [
    {
     "name": "stdout",
     "output_type": "stream",
     "text": [
      "请输入一个年份：2008\n",
      "这个年份是闰年\n"
     ]
    }
   ],
   "source": [
    "year = eval(input('请输入一个年份：'))\n",
    "if (year % 4 == 0 and year % 100 != 0) or (year % 400 == 0):\n",
    "    print('这个年份是闰年')\n",
    "else:\n",
    "    print('这个年份不是闰年')"
   ]
  },
  {
   "cell_type": "code",
   "execution_count": 21,
   "metadata": {},
   "outputs": [
    {
     "name": "stdout",
     "output_type": "stream",
     "text": [
      "输入一个三位数：153\n",
      "这个数是水仙花数\n"
     ]
    }
   ],
   "source": [
    "num = eval(input('输入一个三位数：'))\n",
    "gewei = num % 10\n",
    "shiwei = num // 10 % 10\n",
    "baiwei = num // 100\n",
    "\n",
    "if num == gewei ** 3 + shiwei ** 3 + baiwei ** 3:\n",
    "    print('这个数是水仙花数')\n",
    "else:\n",
    "    print('这个数不是水仙花数')\n",
    "\n"
   ]
  },
  {
   "cell_type": "markdown",
   "metadata": {},
   "source": [
    "## 实例研究：彩票\n",
    "![](../Photo/41.png)"
   ]
  },
  {
   "cell_type": "code",
   "execution_count": 41,
   "metadata": {},
   "outputs": [
    {
     "name": "stdout",
     "output_type": "stream",
     "text": [
      "94\n",
      "输入一个两位数的数字：94\n",
      "一等奖，奖金为10000美元\n"
     ]
    }
   ],
   "source": [
    "import random\n",
    "random_num = random.randint(10,99)\n",
    "print(random_num)\n",
    "num = eval(input('输入一个两位数的数字：'))\n",
    "if random_num == num:\n",
    "    print('一等奖，奖金为10000美元')\n",
    "elif ((num % 10 == random_num % 10)  or (num % 10 == random_num // 10) )and ((num // 10 == random_num // 10) or (num // 10 == random_num % 10)):\n",
    "    print('二等奖，奖金为3000,美元')\n",
    "elif (num % 10 == random_num % 10) or (num % 10 == random_num // 10) or (num // 10 == random_num // 10) or (num // 10 == random_num % 10):\n",
    "    print('三等奖，奖金为1000美元')\n",
    "else:\n",
    "    print('本次没有中奖！')\n",
    "\n"
   ]
  },
  {
   "cell_type": "markdown",
   "metadata": {},
   "source": [
    "# Homework\n",
    "- 1\n",
    "![](../Photo/42.png)"
   ]
  },
  {
   "cell_type": "code",
   "execution_count": 34,
   "metadata": {},
   "outputs": [
    {
     "name": "stdout",
     "output_type": "stream",
     "text": [
      "输入三个值：1.0,3,1\n",
      "两个根为： -0.381966 -2.61803\n"
     ]
    }
   ],
   "source": [
    "import math\n",
    "a,b,c= eval(input('输入三个值：'))\n",
    "num = (b ** 2) - (4 * a *c)\n",
    "if num > 0:\n",
    "    r1 = (-b + math.sqrt(num)) / (2 * a)\n",
    "    r2 = (-b - math.sqrt(num)) / (2 * a)\n",
    "    print('两个根为：',round(r1,6),round(r2,5))\n",
    "elif num == 0:\n",
    "    r1 = (-b + math.sqrt(num)) / (2 * a)\n",
    "    print('一个根为：',r1)\n",
    "elif num < 0:\n",
    "    print('方程没有实根')\n",
    "    "
   ]
  },
  {
   "cell_type": "markdown",
   "metadata": {},
   "source": [
    "- 2\n",
    "![](../Photo/43.png)"
   ]
  },
  {
   "cell_type": "code",
   "execution_count": 1,
   "metadata": {},
   "outputs": [
    {
     "name": "stdout",
     "output_type": "stream",
     "text": [
      "产生的随机数为:28, 7\n",
      "用户输入随机数字的和:35\n",
      "True\n"
     ]
    }
   ],
   "source": [
    "import random\n",
    "random_num1 = random.randint (0,99)\n",
    "random_num2 = random.randint (0,99)\n",
    "print('产生的随机数为:' + str(random_num1) + ', ' + str(random_num2) )\n",
    "sum = random_num1 + random_num2\n",
    "\n",
    "while True:\n",
    "    pp = eval(input('用户输入随机数字的和:' ))\n",
    "    if pp == sum:\n",
    "        print('True')\n",
    "        break\n",
    "    else:\n",
    "        print('False')\n",
    "        "
   ]
  },
  {
   "cell_type": "markdown",
   "metadata": {},
   "source": [
    "- 3\n",
    "![](../Photo/44.png)"
   ]
  },
  {
   "cell_type": "code",
   "execution_count": null,
   "metadata": {},
   "outputs": [],
   "source": [
    "\n"
   ]
  },
  {
   "cell_type": "markdown",
   "metadata": {},
   "source": [
    "- 4\n",
    "![](../Photo/45.png)"
   ]
  },
  {
   "cell_type": "code",
   "execution_count": 34,
   "metadata": {},
   "outputs": [
    {
     "name": "stdout",
     "output_type": "stream",
     "text": [
      "请输入三个整数：12,89,98\n",
      "12,89 98\n"
     ]
    }
   ],
   "source": [
    "a,b,c = eval(input('请输入三个整数：'))\n",
    "if a < b and a < c:\n",
    "    print(a,end=',')\n",
    "    if b < c :\n",
    "        print(b,c)  \n",
    "    else:\n",
    "        print(c,b)\n",
    "elif b < c:\n",
    "    print(b,end=',')\n",
    "    if a <  c:\n",
    "        print(a,c)\n",
    "    else:\n",
    "        print(c,a)\n",
    "else:\n",
    "    print(c,end=',')\n",
    "    if a < b:\n",
    "        print(a,b)\n",
    "    else :\n",
    "        print(b,a)"
   ]
  },
  {
   "cell_type": "markdown",
   "metadata": {},
   "source": [
    "- 5\n",
    "![](../Photo/46.png)"
   ]
  },
  {
   "cell_type": "code",
   "execution_count": 13,
   "metadata": {},
   "outputs": [
    {
     "name": "stdout",
     "output_type": "stream",
     "text": [
      "请输入第一种包装的大米的重量和价钱：50,24.59\n",
      "请输入第二种包装的大米的重量和价钱：25,11.99\n",
      "第二种包装的大米比第一种包装的大米好\n"
     ]
    }
   ],
   "source": [
    "zhongliang1,price1 = eval(input('请输入第一种包装的大米的重量和价钱：'))\n",
    "zhongliang2,price2 = eval(input('请输入第二种包装的大米的重量和价钱：'))\n",
    "package1 = price1 / zhongliang1\n",
    "package2 = price2 / zhongliang2\n",
    "if package1 < package2:\n",
    "    print('第一种包装的大米比第二种包装的大米好')\n",
    "elif package1 == package2:\n",
    "    print('两种包装的大米一样好')\n",
    "elif package1 > package2:\n",
    "    print('第二种包装的大米比第一种包装的大米好')\n",
    "\n",
    "\n",
    "    \n"
   ]
  },
  {
   "cell_type": "markdown",
   "metadata": {},
   "source": [
    "- 6\n",
    "![](../Photo/47.png)"
   ]
  },
  {
   "cell_type": "code",
   "execution_count": 16,
   "metadata": {},
   "outputs": [
    {
     "name": "stdout",
     "output_type": "stream",
     "text": [
      "输入月份：3\n",
      "输入年份：2005\n",
      "2005 年 3 月份有31天\n"
     ]
    }
   ],
   "source": [
    "mounth = eval(input('输入月份：'))\n",
    "year = eval(input('输入年份：'))\n",
    "if year % 4 == 0 and year % 100 != 0 or year % 400 == 0: \n",
    "    if mounth == 2:\n",
    "        print(year,'年',mounth,'月份有29天')\n",
    "else:\n",
    "    if mounth == 1 or mounth == 3 or mounth == 5 or mounth == 7 or mounth == 8 or mounth == 10 or mounth == 12:\n",
    "        print(year,'年',mounth,'月份有31天')\n",
    "    elif mounth == 2:\n",
    "        print(year,'年',mounth,'月份有28天')\n",
    "    else:\n",
    "        print(year,'年',mounth,'月份有30天')"
   ]
  },
  {
   "cell_type": "markdown",
   "metadata": {},
   "source": [
    "- 7\n",
    "![](../Photo/48.png)"
   ]
  },
  {
   "cell_type": "code",
   "execution_count": 1,
   "metadata": {},
   "outputs": [
    {
     "name": "stdout",
     "output_type": "stream",
     "text": [
      "弹起的硬币显示的是： 1\n",
      "输入一个猜测值，正为1，反为0：1\n",
      "猜测错误\n"
     ]
    }
   ],
   "source": [
    "import random\n",
    "a = random.randint(0,1)\n",
    "print('弹起的硬币显示的是：',a)\n",
    "b = input('输入一个猜测值，正为1，反为0：')\n",
    "if b == a:\n",
    "    print('猜测正确')\n",
    "else:\n",
    "    print('猜测错误')"
   ]
  },
  {
   "cell_type": "markdown",
   "metadata": {},
   "source": [
    "- 8\n",
    "![](../Photo/49.png)"
   ]
  },
  {
   "cell_type": "code",
   "execution_count": 25,
   "metadata": {},
   "outputs": [
    {
     "name": "stdout",
     "output_type": "stream",
     "text": [
      "2\n",
      "输入一个0到2之间的猜测值：0\n",
      "你赢了\n"
     ]
    }
   ],
   "source": [
    "#0=剪刀\n",
    "#1=石头\n",
    "#2=布\n",
    "import random\n",
    "number = random.randint(0,2)\n",
    "print(str(number))\n",
    "m = eval(input('输入一个0到2之间的猜测值：'))\n",
    "if number==m:\n",
    "    print('平局')\n",
    "elif (number == 0 and m ==1) or (number == 1 and m == 2) or (number == 2 and m ==0):\n",
    "    print('你赢了')\n",
    "elif (number == 1 and m ==0) or (number == 2 and m == 1) or (number == 0 and m ==2):\n",
    "    print('你输了')"
   ]
  },
  {
   "cell_type": "markdown",
   "metadata": {},
   "source": [
    "- 9\n",
    "![](../Photo/50.png)"
   ]
  },
  {
   "cell_type": "code",
   "execution_count": null,
   "metadata": {},
   "outputs": [],
   "source": []
  },
  {
   "cell_type": "markdown",
   "metadata": {},
   "source": [
    "- 10\n",
    "![](../Photo/51.png)"
   ]
  },
  {
   "cell_type": "code",
   "execution_count": 38,
   "metadata": {},
   "outputs": [
    {
     "name": "stdout",
     "output_type": "stream",
     "text": [
      "这张牌的大小为： Queen \n",
      " 这张牌的花色为： 方块\n"
     ]
    }
   ],
   "source": [
    "import random \n",
    "sizeArr = ['Ace','2','3','4','5','6','7','8','9','10','Jack','Queen','King']\n",
    "colorArr = ['梅花','红桃','方块','黑桃']\n",
    "size = random.randint(0,12)\n",
    "color = random.randint(0,3)\n",
    "print('这张牌的大小为：',sizeArr[size],'\\n','这张牌的花色为：',colorArr[color])"
   ]
  },
  {
   "cell_type": "markdown",
   "metadata": {},
   "source": [
    "- 11\n",
    "![](../Photo/52.png)"
   ]
  },
  {
   "cell_type": "code",
   "execution_count": 5,
   "metadata": {},
   "outputs": [
    {
     "name": "stdout",
     "output_type": "stream",
     "text": [
      "输入一个三位整数：121\n",
      "是回文数\n"
     ]
    }
   ],
   "source": [
    "number = eval(input('输入一个三位整数：'))\n",
    "baiwei = number // 100\n",
    "gewei = number % 10\n",
    "if baiwei == gewei:\n",
    "    print('是回文数')\n",
    "else:\n",
    "    print('不是回文数')"
   ]
  },
  {
   "cell_type": "markdown",
   "metadata": {},
   "source": [
    "- 12\n",
    "![](../Photo/53.png)"
   ]
  },
  {
   "cell_type": "code",
   "execution_count": 9,
   "metadata": {},
   "outputs": [
    {
     "name": "stdout",
     "output_type": "stream",
     "text": [
      "输入三角形的三个边：1,1,1\n",
      "这个三角形的周长是： 3\n"
     ]
    }
   ],
   "source": [
    "a,b,c = eval(input('输入三角形的三个边：'))\n",
    "if a+b > c and a + c > b and b + c > a:\n",
    "    sum = a+b+c\n",
    "    print('这个三角形的周长是：',sum)\n",
    "else:\n",
    "    print('这个输入是非法的')\n",
    "    "
   ]
  }
 ],
 "metadata": {
  "kernelspec": {
   "display_name": "Python 3",
   "language": "python",
   "name": "python3"
  },
  "language_info": {
   "codemirror_mode": {
    "name": "ipython",
    "version": 3
   },
   "file_extension": ".py",
   "mimetype": "text/x-python",
   "name": "python",
   "nbconvert_exporter": "python",
   "pygments_lexer": "ipython3",
   "version": "3.6.4"
  }
 },
 "nbformat": 4,
 "nbformat_minor": 2
}
